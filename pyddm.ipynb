{
  "nbformat": 4,
  "nbformat_minor": 0,
  "metadata": {
    "colab": {
      "provenance": []
    },
    "kernelspec": {
      "name": "python3",
      "display_name": "Python 3"
    }
  },
  "cells": [
    {
      "cell_type": "markdown",
      "source": [
        "See Also References: [pyddm documentation](https://pyddm.readthedocs.io/en/stable/quickstart.html) ❤"
      ],
      "metadata": {
        "id": "2n6KNrAYMDS4"
      }
    },
    {
      "cell_type": "markdown",
      "source": [
        "<a href=\"https://colab.research.google.com/drive/1RHrJI98cYIZoaMK2PV5ABIw1D47YX1sG?usp=sharing\" target=\"_parent\">\n",
        "  <img src=\"https://colab.research.google.com/assets/colab-badge.svg\" alt=\"Open in Colab\"/>\n",
        "</a>\n"
      ],
      "metadata": {
        "id": "Rk5I8eHnA648"
      }
    }
  ]
}